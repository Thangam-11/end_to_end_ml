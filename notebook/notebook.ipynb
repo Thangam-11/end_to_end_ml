{
 "cells": [
  {
   "cell_type": "code",
   "execution_count": 1,
   "id": "7a7b7dfe",
   "metadata": {},
   "outputs": [
    {
     "name": "stdout",
     "output_type": "stream",
     "text": [
      "hello world\n"
     ]
    }
   ],
   "source": [
    "print(\"hello world\")"
   ]
  },
  {
   "cell_type": "code",
   "execution_count": 7,
   "id": "b110f4af",
   "metadata": {},
   "outputs": [],
   "source": [
    "import pandas as pd\n",
    "import numpy as np\n"
   ]
  },
  {
   "cell_type": "code",
   "execution_count": 3,
   "id": "892f90c0",
   "metadata": {},
   "outputs": [],
   "source": [
    "df_data = pd.read_csv(r\"C:\\Users\\thang\\Desktop\\Water_classfiaction_app\\data\\raw_data\\pre_procese_data.csv\")"
   ]
  },
  {
   "cell_type": "code",
   "execution_count": 4,
   "id": "6d087cd0",
   "metadata": {},
   "outputs": [
    {
     "data": {
      "text/html": [
       "<div>\n",
       "<style scoped>\n",
       "    .dataframe tbody tr th:only-of-type {\n",
       "        vertical-align: middle;\n",
       "    }\n",
       "\n",
       "    .dataframe tbody tr th {\n",
       "        vertical-align: top;\n",
       "    }\n",
       "\n",
       "    .dataframe thead th {\n",
       "        text-align: right;\n",
       "    }\n",
       "</style>\n",
       "<table border=\"1\" class=\"dataframe\">\n",
       "  <thead>\n",
       "    <tr style=\"text-align: right;\">\n",
       "      <th></th>\n",
       "      <th>aluminium</th>\n",
       "      <th>ammonia</th>\n",
       "      <th>arsenic</th>\n",
       "      <th>barium</th>\n",
       "      <th>cadmium</th>\n",
       "      <th>chloramine</th>\n",
       "      <th>chromium</th>\n",
       "      <th>copper</th>\n",
       "      <th>flouride</th>\n",
       "      <th>bacteria</th>\n",
       "      <th>...</th>\n",
       "      <th>nitrites_high</th>\n",
       "      <th>mercury_high</th>\n",
       "      <th>perchlorate_high</th>\n",
       "      <th>radium_high</th>\n",
       "      <th>selenium_high</th>\n",
       "      <th>silver_high</th>\n",
       "      <th>uranium_high</th>\n",
       "      <th>danger_count</th>\n",
       "      <th>nitrate_nitrite_ratio</th>\n",
       "      <th>bacteria_viruses</th>\n",
       "    </tr>\n",
       "  </thead>\n",
       "  <tbody>\n",
       "    <tr>\n",
       "      <th>0</th>\n",
       "      <td>1.65</td>\n",
       "      <td>9.08</td>\n",
       "      <td>0.04</td>\n",
       "      <td>2.85</td>\n",
       "      <td>0.007</td>\n",
       "      <td>0.35</td>\n",
       "      <td>0.83</td>\n",
       "      <td>0.17</td>\n",
       "      <td>0.05</td>\n",
       "      <td>0.20</td>\n",
       "      <td>...</td>\n",
       "      <td>1</td>\n",
       "      <td>1</td>\n",
       "      <td>0</td>\n",
       "      <td>1</td>\n",
       "      <td>0</td>\n",
       "      <td>1</td>\n",
       "      <td>0</td>\n",
       "      <td>11</td>\n",
       "      <td>14.230088</td>\n",
       "      <td>0.00000</td>\n",
       "    </tr>\n",
       "    <tr>\n",
       "      <th>1</th>\n",
       "      <td>2.32</td>\n",
       "      <td>21.16</td>\n",
       "      <td>0.01</td>\n",
       "      <td>3.31</td>\n",
       "      <td>0.002</td>\n",
       "      <td>5.28</td>\n",
       "      <td>0.68</td>\n",
       "      <td>0.66</td>\n",
       "      <td>0.90</td>\n",
       "      <td>0.65</td>\n",
       "      <td>...</td>\n",
       "      <td>1</td>\n",
       "      <td>1</td>\n",
       "      <td>0</td>\n",
       "      <td>0</td>\n",
       "      <td>0</td>\n",
       "      <td>1</td>\n",
       "      <td>0</td>\n",
       "      <td>9</td>\n",
       "      <td>1.041451</td>\n",
       "      <td>0.42250</td>\n",
       "    </tr>\n",
       "    <tr>\n",
       "      <th>2</th>\n",
       "      <td>1.01</td>\n",
       "      <td>14.02</td>\n",
       "      <td>0.04</td>\n",
       "      <td>0.58</td>\n",
       "      <td>0.008</td>\n",
       "      <td>4.24</td>\n",
       "      <td>0.53</td>\n",
       "      <td>0.02</td>\n",
       "      <td>0.99</td>\n",
       "      <td>0.05</td>\n",
       "      <td>...</td>\n",
       "      <td>1</td>\n",
       "      <td>1</td>\n",
       "      <td>0</td>\n",
       "      <td>1</td>\n",
       "      <td>0</td>\n",
       "      <td>1</td>\n",
       "      <td>0</td>\n",
       "      <td>12</td>\n",
       "      <td>12.756757</td>\n",
       "      <td>0.00015</td>\n",
       "    </tr>\n",
       "    <tr>\n",
       "      <th>3</th>\n",
       "      <td>1.36</td>\n",
       "      <td>11.33</td>\n",
       "      <td>0.04</td>\n",
       "      <td>2.96</td>\n",
       "      <td>0.001</td>\n",
       "      <td>7.23</td>\n",
       "      <td>0.03</td>\n",
       "      <td>1.66</td>\n",
       "      <td>1.08</td>\n",
       "      <td>0.71</td>\n",
       "      <td>...</td>\n",
       "      <td>1</td>\n",
       "      <td>1</td>\n",
       "      <td>0</td>\n",
       "      <td>0</td>\n",
       "      <td>0</td>\n",
       "      <td>1</td>\n",
       "      <td>0</td>\n",
       "      <td>10</td>\n",
       "      <td>1.093023</td>\n",
       "      <td>0.50410</td>\n",
       "    </tr>\n",
       "    <tr>\n",
       "      <th>4</th>\n",
       "      <td>0.92</td>\n",
       "      <td>24.33</td>\n",
       "      <td>0.03</td>\n",
       "      <td>0.20</td>\n",
       "      <td>0.006</td>\n",
       "      <td>2.67</td>\n",
       "      <td>0.69</td>\n",
       "      <td>0.57</td>\n",
       "      <td>NaN</td>\n",
       "      <td>0.13</td>\n",
       "      <td>...</td>\n",
       "      <td>1</td>\n",
       "      <td>1</td>\n",
       "      <td>0</td>\n",
       "      <td>0</td>\n",
       "      <td>0</td>\n",
       "      <td>0</td>\n",
       "      <td>0</td>\n",
       "      <td>8</td>\n",
       "      <td>6.072072</td>\n",
       "      <td>0.00013</td>\n",
       "    </tr>\n",
       "    <tr>\n",
       "      <th>...</th>\n",
       "      <td>...</td>\n",
       "      <td>...</td>\n",
       "      <td>...</td>\n",
       "      <td>...</td>\n",
       "      <td>...</td>\n",
       "      <td>...</td>\n",
       "      <td>...</td>\n",
       "      <td>...</td>\n",
       "      <td>...</td>\n",
       "      <td>...</td>\n",
       "      <td>...</td>\n",
       "      <td>...</td>\n",
       "      <td>...</td>\n",
       "      <td>...</td>\n",
       "      <td>...</td>\n",
       "      <td>...</td>\n",
       "      <td>...</td>\n",
       "      <td>...</td>\n",
       "      <td>...</td>\n",
       "      <td>...</td>\n",
       "      <td>...</td>\n",
       "    </tr>\n",
       "    <tr>\n",
       "      <th>7994</th>\n",
       "      <td>0.05</td>\n",
       "      <td>7.78</td>\n",
       "      <td>0.00</td>\n",
       "      <td>1.95</td>\n",
       "      <td>0.040</td>\n",
       "      <td>0.10</td>\n",
       "      <td>0.03</td>\n",
       "      <td>0.03</td>\n",
       "      <td>1.37</td>\n",
       "      <td>0.00</td>\n",
       "      <td>...</td>\n",
       "      <td>0</td>\n",
       "      <td>1</td>\n",
       "      <td>0</td>\n",
       "      <td>0</td>\n",
       "      <td>0</td>\n",
       "      <td>0</td>\n",
       "      <td>0</td>\n",
       "      <td>4</td>\n",
       "      <td>14.290000</td>\n",
       "      <td>0.00000</td>\n",
       "    </tr>\n",
       "    <tr>\n",
       "      <th>7995</th>\n",
       "      <td>0.05</td>\n",
       "      <td>24.22</td>\n",
       "      <td>0.02</td>\n",
       "      <td>0.59</td>\n",
       "      <td>0.010</td>\n",
       "      <td>0.45</td>\n",
       "      <td>0.02</td>\n",
       "      <td>0.02</td>\n",
       "      <td>1.48</td>\n",
       "      <td>0.00</td>\n",
       "      <td>...</td>\n",
       "      <td>0</td>\n",
       "      <td>0</td>\n",
       "      <td>0</td>\n",
       "      <td>0</td>\n",
       "      <td>0</td>\n",
       "      <td>0</td>\n",
       "      <td>0</td>\n",
       "      <td>4</td>\n",
       "      <td>10.270000</td>\n",
       "      <td>0.00000</td>\n",
       "    </tr>\n",
       "    <tr>\n",
       "      <th>7996</th>\n",
       "      <td>0.09</td>\n",
       "      <td>6.85</td>\n",
       "      <td>0.00</td>\n",
       "      <td>0.61</td>\n",
       "      <td>0.030</td>\n",
       "      <td>0.05</td>\n",
       "      <td>0.05</td>\n",
       "      <td>0.02</td>\n",
       "      <td>0.91</td>\n",
       "      <td>0.00</td>\n",
       "      <td>...</td>\n",
       "      <td>0</td>\n",
       "      <td>0</td>\n",
       "      <td>0</td>\n",
       "      <td>0</td>\n",
       "      <td>0</td>\n",
       "      <td>0</td>\n",
       "      <td>0</td>\n",
       "      <td>3</td>\n",
       "      <td>15.920000</td>\n",
       "      <td>0.00000</td>\n",
       "    </tr>\n",
       "    <tr>\n",
       "      <th>7997</th>\n",
       "      <td>0.01</td>\n",
       "      <td>10.00</td>\n",
       "      <td>0.01</td>\n",
       "      <td>2.00</td>\n",
       "      <td>0.000</td>\n",
       "      <td>2.00</td>\n",
       "      <td>0.00</td>\n",
       "      <td>0.09</td>\n",
       "      <td>0.00</td>\n",
       "      <td>0.00</td>\n",
       "      <td>...</td>\n",
       "      <td>0</td>\n",
       "      <td>0</td>\n",
       "      <td>0</td>\n",
       "      <td>0</td>\n",
       "      <td>0</td>\n",
       "      <td>0</td>\n",
       "      <td>0</td>\n",
       "      <td>0</td>\n",
       "      <td>0.000000</td>\n",
       "      <td>0.00000</td>\n",
       "    </tr>\n",
       "    <tr>\n",
       "      <th>7998</th>\n",
       "      <td>0.04</td>\n",
       "      <td>6.85</td>\n",
       "      <td>0.01</td>\n",
       "      <td>0.70</td>\n",
       "      <td>0.030</td>\n",
       "      <td>0.05</td>\n",
       "      <td>0.01</td>\n",
       "      <td>0.03</td>\n",
       "      <td>1.00</td>\n",
       "      <td>0.00</td>\n",
       "      <td>...</td>\n",
       "      <td>0</td>\n",
       "      <td>0</td>\n",
       "      <td>0</td>\n",
       "      <td>0</td>\n",
       "      <td>0</td>\n",
       "      <td>0</td>\n",
       "      <td>0</td>\n",
       "      <td>3</td>\n",
       "      <td>15.920000</td>\n",
       "      <td>0.00000</td>\n",
       "    </tr>\n",
       "  </tbody>\n",
       "</table>\n",
       "<p>7999 rows × 43 columns</p>\n",
       "</div>"
      ],
      "text/plain": [
       "      aluminium  ammonia  arsenic  barium  cadmium  chloramine  chromium  \\\n",
       "0          1.65     9.08     0.04    2.85    0.007        0.35      0.83   \n",
       "1          2.32    21.16     0.01    3.31    0.002        5.28      0.68   \n",
       "2          1.01    14.02     0.04    0.58    0.008        4.24      0.53   \n",
       "3          1.36    11.33     0.04    2.96    0.001        7.23      0.03   \n",
       "4          0.92    24.33     0.03    0.20    0.006        2.67      0.69   \n",
       "...         ...      ...      ...     ...      ...         ...       ...   \n",
       "7994       0.05     7.78     0.00    1.95    0.040        0.10      0.03   \n",
       "7995       0.05    24.22     0.02    0.59    0.010        0.45      0.02   \n",
       "7996       0.09     6.85     0.00    0.61    0.030        0.05      0.05   \n",
       "7997       0.01    10.00     0.01    2.00    0.000        2.00      0.00   \n",
       "7998       0.04     6.85     0.01    0.70    0.030        0.05      0.01   \n",
       "\n",
       "      copper  flouride  bacteria  ...  nitrites_high  mercury_high  \\\n",
       "0       0.17      0.05      0.20  ...              1             1   \n",
       "1       0.66      0.90      0.65  ...              1             1   \n",
       "2       0.02      0.99      0.05  ...              1             1   \n",
       "3       1.66      1.08      0.71  ...              1             1   \n",
       "4       0.57       NaN      0.13  ...              1             1   \n",
       "...      ...       ...       ...  ...            ...           ...   \n",
       "7994    0.03      1.37      0.00  ...              0             1   \n",
       "7995    0.02      1.48      0.00  ...              0             0   \n",
       "7996    0.02      0.91      0.00  ...              0             0   \n",
       "7997    0.09      0.00      0.00  ...              0             0   \n",
       "7998    0.03      1.00      0.00  ...              0             0   \n",
       "\n",
       "      perchlorate_high  radium_high  selenium_high  silver_high  uranium_high  \\\n",
       "0                    0            1              0            1             0   \n",
       "1                    0            0              0            1             0   \n",
       "2                    0            1              0            1             0   \n",
       "3                    0            0              0            1             0   \n",
       "4                    0            0              0            0             0   \n",
       "...                ...          ...            ...          ...           ...   \n",
       "7994                 0            0              0            0             0   \n",
       "7995                 0            0              0            0             0   \n",
       "7996                 0            0              0            0             0   \n",
       "7997                 0            0              0            0             0   \n",
       "7998                 0            0              0            0             0   \n",
       "\n",
       "      danger_count  nitrate_nitrite_ratio  bacteria_viruses  \n",
       "0               11              14.230088           0.00000  \n",
       "1                9               1.041451           0.42250  \n",
       "2               12              12.756757           0.00015  \n",
       "3               10               1.093023           0.50410  \n",
       "4                8               6.072072           0.00013  \n",
       "...            ...                    ...               ...  \n",
       "7994             4              14.290000           0.00000  \n",
       "7995             4              10.270000           0.00000  \n",
       "7996             3              15.920000           0.00000  \n",
       "7997             0               0.000000           0.00000  \n",
       "7998             3              15.920000           0.00000  \n",
       "\n",
       "[7999 rows x 43 columns]"
      ]
     },
     "execution_count": 4,
     "metadata": {},
     "output_type": "execute_result"
    }
   ],
   "source": [
    "df_data"
   ]
  },
  {
   "cell_type": "code",
   "execution_count": 5,
   "id": "f49bab75",
   "metadata": {},
   "outputs": [
    {
     "data": {
      "text/plain": [
       "(7999, 43)"
      ]
     },
     "execution_count": 5,
     "metadata": {},
     "output_type": "execute_result"
    }
   ],
   "source": [
    "df_data.shape"
   ]
  },
  {
   "cell_type": "code",
   "execution_count": 6,
   "id": "460cfee8",
   "metadata": {},
   "outputs": [
    {
     "name": "stdout",
     "output_type": "stream",
     "text": [
      "<class 'pandas.core.frame.DataFrame'>\n",
      "RangeIndex: 7999 entries, 0 to 7998\n",
      "Data columns (total 43 columns):\n",
      " #   Column                 Non-Null Count  Dtype  \n",
      "---  ------                 --------------  -----  \n",
      " 0   aluminium              7999 non-null   float64\n",
      " 1   ammonia                7996 non-null   float64\n",
      " 2   arsenic                7999 non-null   float64\n",
      " 3   barium                 7999 non-null   float64\n",
      " 4   cadmium                7751 non-null   float64\n",
      " 5   chloramine             7999 non-null   float64\n",
      " 6   chromium               7999 non-null   float64\n",
      " 7   copper                 7999 non-null   float64\n",
      " 8   flouride               7935 non-null   float64\n",
      " 9   bacteria               7999 non-null   float64\n",
      " 10  viruses                7999 non-null   float64\n",
      " 11  lead                   7999 non-null   float64\n",
      " 12  nitrates               7999 non-null   float64\n",
      " 13  nitrites               7999 non-null   float64\n",
      " 14  mercury                7999 non-null   float64\n",
      " 15  perchlorate            7732 non-null   float64\n",
      " 16  radium                 7999 non-null   float64\n",
      " 17  selenium               7999 non-null   float64\n",
      " 18  silver                 7999 non-null   float64\n",
      " 19  uranium                7999 non-null   float64\n",
      " 20  is_safe                7999 non-null   object \n",
      " 21  aluminium_high         7999 non-null   int64  \n",
      " 22  ammonia_high           7999 non-null   int64  \n",
      " 23  arsenic_high           7999 non-null   int64  \n",
      " 24  barium_high            7999 non-null   int64  \n",
      " 25  cadmium_high           7999 non-null   int64  \n",
      " 26  chloramine_high        7999 non-null   int64  \n",
      " 27  chromium_high          7999 non-null   int64  \n",
      " 28  copper_high            7999 non-null   int64  \n",
      " 29  bacteria_high          7999 non-null   int64  \n",
      " 30  viruses_high           7999 non-null   int64  \n",
      " 31  lead_high              7999 non-null   int64  \n",
      " 32  nitrates_high          7999 non-null   int64  \n",
      " 33  nitrites_high          7999 non-null   int64  \n",
      " 34  mercury_high           7999 non-null   int64  \n",
      " 35  perchlorate_high       7999 non-null   int64  \n",
      " 36  radium_high            7999 non-null   int64  \n",
      " 37  selenium_high          7999 non-null   int64  \n",
      " 38  silver_high            7999 non-null   int64  \n",
      " 39  uranium_high           7999 non-null   int64  \n",
      " 40  danger_count           7999 non-null   int64  \n",
      " 41  nitrate_nitrite_ratio  7999 non-null   float64\n",
      " 42  bacteria_viruses       7999 non-null   float64\n",
      "dtypes: float64(22), int64(20), object(1)\n",
      "memory usage: 2.6+ MB\n"
     ]
    }
   ],
   "source": [
    "df_data.info()"
   ]
  },
  {
   "cell_type": "markdown",
   "id": "8c063f23",
   "metadata": {},
   "source": []
  },
  {
   "cell_type": "code",
   "execution_count": 8,
   "id": "23f0647d",
   "metadata": {},
   "outputs": [
    {
     "name": "stdout",
     "output_type": "stream",
     "text": [
      "ammonia 0.0375 % missing values\n",
      "cadmium 3.10039 % missing values\n",
      "flouride 0.8001 % missing values\n",
      "perchlorate 3.33792 % missing values\n"
     ]
    }
   ],
   "source": [
    "##these are the features with nan value\n",
    "features_with_na=[features for features in df_data.columns if df_data[features].isnull().sum()>=1]\n",
    "for feature in features_with_na:\n",
    "    print(feature,np.round(df_data[feature].isnull().mean()*100,5), '% missing values')"
   ]
  },
  {
   "cell_type": "code",
   "execution_count": 9,
   "id": "aa97c190",
   "metadata": {},
   "outputs": [
    {
     "data": {
      "text/plain": [
       "['ammonia', 'cadmium', 'flouride', 'perchlorate']"
      ]
     },
     "execution_count": 9,
     "metadata": {},
     "output_type": "execute_result"
    }
   ],
   "source": [
    "features_with_na"
   ]
  },
  {
   "cell_type": "code",
   "execution_count": 12,
   "id": "d5a5de53",
   "metadata": {},
   "outputs": [
    {
     "name": "stderr",
     "output_type": "stream",
     "text": [
      "C:\\Users\\thang\\AppData\\Local\\Temp\\ipykernel_19644\\2042558406.py:3: FutureWarning: A value is trying to be set on a copy of a DataFrame or Series through chained assignment using an inplace method.\n",
      "The behavior will change in pandas 3.0. This inplace method will never work because the intermediate object on which we are setting values always behaves as a copy.\n",
      "\n",
      "For example, when doing 'df[col].method(value, inplace=True)', try using 'df.method({col: value}, inplace=True)' or df[col] = df[col].method(value) instead, to perform the operation inplace on the original object.\n",
      "\n",
      "\n",
      "  df_data[feature].fillna(df_data[feature].mean(), inplace=True)\n"
     ]
    }
   ],
   "source": [
    "# Impute missing values with mean for selected features\n",
    "for feature in features_with_na:\n",
    "    df_data[feature].fillna(df_data[feature].mean(), inplace=True)"
   ]
  },
  {
   "cell_type": "code",
   "execution_count": 13,
   "id": "95ba17c8",
   "metadata": {},
   "outputs": [
    {
     "data": {
      "text/plain": [
       "ammonia        0\n",
       "cadmium        0\n",
       "flouride       0\n",
       "perchlorate    0\n",
       "dtype: int64"
      ]
     },
     "execution_count": 13,
     "metadata": {},
     "output_type": "execute_result"
    }
   ],
   "source": [
    "df_data[features_with_na].isnull().sum()"
   ]
  },
  {
   "cell_type": "code",
   "execution_count": 14,
   "id": "5de48b6b",
   "metadata": {},
   "outputs": [
    {
     "data": {
      "text/plain": [
       "np.int64(0)"
      ]
     },
     "execution_count": 14,
     "metadata": {},
     "output_type": "execute_result"
    }
   ],
   "source": [
    "df_data.duplicated().sum()"
   ]
  },
  {
   "cell_type": "code",
   "execution_count": 15,
   "id": "15f07aad",
   "metadata": {},
   "outputs": [
    {
     "data": {
      "text/plain": [
       "Index(['aluminium', 'ammonia', 'arsenic', 'barium', 'cadmium', 'chloramine',\n",
       "       'chromium', 'copper', 'flouride', 'bacteria', 'viruses', 'lead',\n",
       "       'nitrates', 'nitrites', 'mercury', 'perchlorate', 'radium', 'selenium',\n",
       "       'silver', 'uranium', 'is_safe', 'aluminium_high', 'ammonia_high',\n",
       "       'arsenic_high', 'barium_high', 'cadmium_high', 'chloramine_high',\n",
       "       'chromium_high', 'copper_high', 'bacteria_high', 'viruses_high',\n",
       "       'lead_high', 'nitrates_high', 'nitrites_high', 'mercury_high',\n",
       "       'perchlorate_high', 'radium_high', 'selenium_high', 'silver_high',\n",
       "       'uranium_high', 'danger_count', 'nitrate_nitrite_ratio',\n",
       "       'bacteria_viruses'],\n",
       "      dtype='object')"
      ]
     },
     "execution_count": 15,
     "metadata": {},
     "output_type": "execute_result"
    }
   ],
   "source": [
    "df_data.columns"
   ]
  },
  {
   "cell_type": "code",
   "execution_count": 16,
   "id": "e4c40538",
   "metadata": {},
   "outputs": [
    {
     "data": {
      "text/plain": [
       "is_safe\n",
       "0        7084\n",
       "1         912\n",
       "#NUM!       3\n",
       "Name: count, dtype: int64"
      ]
     },
     "execution_count": 16,
     "metadata": {},
     "output_type": "execute_result"
    }
   ],
   "source": [
    "df_data['is_safe'].value_counts()"
   ]
  },
  {
   "cell_type": "code",
   "execution_count": 17,
   "id": "0fef179d",
   "metadata": {},
   "outputs": [],
   "source": [
    "# Drop rows where is_safe is NaN after conversion\n",
    "df = df_data.dropna(subset=[\"is_safe\"])"
   ]
  },
  {
   "cell_type": "code",
   "execution_count": 19,
   "id": "82ceafd8",
   "metadata": {},
   "outputs": [
    {
     "data": {
      "text/plain": [
       "is_safe\n",
       "0        7084\n",
       "1         912\n",
       "#NUM!       3\n",
       "Name: count, dtype: int64"
      ]
     },
     "execution_count": 19,
     "metadata": {},
     "output_type": "execute_result"
    }
   ],
   "source": [
    "df['is_safe'].value_counts()"
   ]
  },
  {
   "cell_type": "code",
   "execution_count": null,
   "id": "c2f52214",
   "metadata": {},
   "outputs": [],
   "source": []
  },
  {
   "cell_type": "code",
   "execution_count": null,
   "id": "9da322a4",
   "metadata": {},
   "outputs": [],
   "source": []
  }
 ],
 "metadata": {
  "kernelspec": {
   "display_name": "Python 3",
   "language": "python",
   "name": "python3"
  },
  "language_info": {
   "codemirror_mode": {
    "name": "ipython",
    "version": 3
   },
   "file_extension": ".py",
   "mimetype": "text/x-python",
   "name": "python",
   "nbconvert_exporter": "python",
   "pygments_lexer": "ipython3",
   "version": "3.10.18"
  }
 },
 "nbformat": 4,
 "nbformat_minor": 5
}
